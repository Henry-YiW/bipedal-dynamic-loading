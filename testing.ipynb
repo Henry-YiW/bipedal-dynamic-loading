{
 "cells": [
  {
   "cell_type": "code",
   "execution_count": 1,
   "metadata": {},
   "outputs": [
    {
     "data": {
      "text/plain": [
       "'compute_graph.pdf'"
      ]
     },
     "execution_count": 1,
     "metadata": {},
     "output_type": "execute_result"
    }
   ],
   "source": [
    "import torch\n",
    "from torchviz import make_dot\n",
    "\n",
    "x = torch.randn(10, 6, requires_grad=True)\n",
    "w = torch.nn.Parameter(torch.randn(6, 1))\n",
    "y = x @ w\n",
    "loss = y.pow(2).mean()\n",
    "\n",
    "# Build and render computation graph\n",
    "dot = make_dot(loss, params={'x': x, 'w': w})\n",
    "dot.render(\"compute_graph\", format=\"pdf\")  # generates compute_graph.pdf\n"
   ]
  },
  {
   "cell_type": "code",
   "execution_count": 2,
   "metadata": {},
   "outputs": [],
   "source": [
    "import torch\n",
    "a = torch.tensor([])"
   ]
  },
  {
   "cell_type": "code",
   "execution_count": 4,
   "metadata": {},
   "outputs": [
    {
     "ename": "IndexError",
     "evalue": "Dimension out of range (expected to be in range of [-1, 0], but got 1)",
     "output_type": "error",
     "traceback": [
      "\u001b[0;31m---------------------------------------------------------------------------\u001b[0m",
      "\u001b[0;31mIndexError\u001b[0m                                Traceback (most recent call last)",
      "Cell \u001b[0;32mIn[4], line 1\u001b[0m\n\u001b[0;32m----> 1\u001b[0m \u001b[43ma\u001b[49m\u001b[38;5;241;43m.\u001b[39;49m\u001b[43mmean\u001b[49m\u001b[43m(\u001b[49m\u001b[43mdim\u001b[49m\u001b[38;5;241;43m=\u001b[39;49m\u001b[38;5;241;43m1\u001b[39;49m\u001b[43m)\u001b[49m\n",
      "\u001b[0;31mIndexError\u001b[0m: Dimension out of range (expected to be in range of [-1, 0], but got 1)"
     ]
    }
   ],
   "source": [
    "a.mean(dim=1)"
   ]
  },
  {
   "cell_type": "code",
   "execution_count": 2,
   "metadata": {},
   "outputs": [],
   "source": [
    "import torch\n",
    "root_states = torch.randn(128, 1, 13)"
   ]
  },
  {
   "cell_type": "code",
   "execution_count": 6,
   "metadata": {},
   "outputs": [
    {
     "data": {
      "text/plain": [
       "tensor([], size=(128, 0, 13))"
      ]
     },
     "execution_count": 6,
     "metadata": {},
     "output_type": "execute_result"
    }
   ],
   "source": [
    "torch.zeros_like(root_states[:, 7:13])"
   ]
  },
  {
   "cell_type": "code",
   "execution_count": 2,
   "metadata": {},
   "outputs": [],
   "source": [
    "import torch\n",
    "base_mass = torch.zeros(\n",
    "            128, dtype=torch.float, requires_grad=False\n",
    "        )"
   ]
  },
  {
   "cell_type": "code",
   "execution_count": 3,
   "metadata": {},
   "outputs": [
    {
     "data": {
      "text/plain": [
       "0.0"
      ]
     },
     "execution_count": 3,
     "metadata": {},
     "output_type": "execute_result"
    }
   ],
   "source": [
    "base_mass.mean().item()"
   ]
  },
  {
   "cell_type": "code",
   "execution_count": 5,
   "metadata": {},
   "outputs": [],
   "source": [
    "\n",
    "max_push_vel_xy = 1.\n",
    "dt = 0.005"
   ]
  },
  {
   "cell_type": "code",
   "execution_count": 6,
   "metadata": {},
   "outputs": [],
   "source": [
    "max_push_force = (\n",
    "                base_mass.mean().item()\n",
    "                * max_push_vel_xy\n",
    "                / dt\n",
    "        )"
   ]
  },
  {
   "cell_type": "code",
   "execution_count": 7,
   "metadata": {},
   "outputs": [
    {
     "data": {
      "text/plain": [
       "0.0"
      ]
     },
     "execution_count": 7,
     "metadata": {},
     "output_type": "execute_result"
    }
   ],
   "source": [
    "max_push_force"
   ]
  },
  {
   "cell_type": "code",
   "execution_count": null,
   "metadata": {},
   "outputs": [],
   "source": [
    "Average rewards per second:\n",
    " - rew_action_rate: -0.018909440178853962\n",
    " - rew_ang_vel_xy: -0.09256073768035723\n",
    " - rew_base_height: -0.04222264486508301\n",
    " - rew_collision: -0.7336538842377754\n",
    " - rew_dof_acc: -0.04875151218416599\n",
    " - rew_feet_air_time: -0.5192884589330509\n",
    " - rew_feet_contact_forces: -0.25405092938588214\n",
    " - rew_feet_distance: -0.01833677217991163\n",
    " - rew_lin_vel_z: -0.044389908166172415\n",
    " - rew_no_fly: 0.668544996673098\n",
    " - rew_orientation: -0.08730005193501711\n",
    " - rew_stand_still: -0.4800396624665994\n",
    " - rew_survival: 1.7428679494903638\n",
    " - rew_torque_limits: -0.038059910401128806\n",
    " - rew_torques: -0.04034759277979342\n",
    " - rew_tracking_ang_vel: 3.7303712436786065\n",
    " - rew_tracking_lin_vel: 6.077705544921068\n",
    " - rew_unbalance_feet_air_time: -0.9485231392945235\n",
    " - rew_unbalance_feet_height: -0.12607593494109237\n",
    "Total number of episodes: 52\n"
   ]
  }
 ],
 "metadata": {
  "kernelspec": {
   "display_name": "robotics",
   "language": "python",
   "name": "python3"
  },
  "language_info": {
   "codemirror_mode": {
    "name": "ipython",
    "version": 3
   },
   "file_extension": ".py",
   "mimetype": "text/x-python",
   "name": "python",
   "nbconvert_exporter": "python",
   "pygments_lexer": "ipython3",
   "version": "3.8.20"
  }
 },
 "nbformat": 4,
 "nbformat_minor": 2
}
